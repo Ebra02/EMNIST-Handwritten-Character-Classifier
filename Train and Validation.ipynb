{
  "cells": [
    {
      "cell_type": "markdown",
      "metadata": {
        "id": "zemWtDr8gVOf"
      },
      "source": [
        "## Task: Train an EMNIST classifier\n",
        "\n",
        "EMNIST (or extended MNIST) is just like MNIST, a bunch of handwritten images, except instead of just digits (0-9) it also has uppercase and lowercase characters.\n",
        "\n",
        "You are provided with the code to load the EMNIST train and split **datasets**\n",
        "\n",
        "Write and train a classifier for EMNIST. Make sure to\n",
        "\n",
        "- Show how your loss(es) dropped during training.\n",
        "- Show final performance of your model on untrained data.\n",
        "- Maintain good code quality."
      ]
    },
    {
      "cell_type": "code",
      "execution_count": null,
      "metadata": {},
      "outputs": [],
      "source": [
        "# Name: Ebrahim Mansour Sharka\n",
        "# National ID: 1113709248"
      ]
    },
    {
      "cell_type": "code",
      "execution_count": 158,
      "metadata": {
        "id": "4GQMlmw2hwbn"
      },
      "outputs": [],
      "source": [
        "import torch\n",
        "import torch.nn as nn\n",
        "import torch.optim as optim\n",
        "\n",
        "import matplotlib.pyplot as plt\n",
        "import numpy as np\n",
        "\n",
        "import torchvision.models as models\n",
        "\n",
        "import torchvision\n",
        "from torchvision.datasets import EMNIST\n",
        "import torchvision.transforms.functional as F\n",
        "import torch.nn.functional as F\n",
        "from torchvision import transforms\n",
        "from torch.utils.data import DataLoader, Subset"
      ]
    },
    {
      "cell_type": "code",
      "execution_count": 159,
      "metadata": {
        "colab": {
          "base_uri": "https://localhost:8080/"
        },
        "id": "InCfHKZme7ga",
        "outputId": "2f7dc8ee-6452-460d-b62d-a4f29887383c"
      },
      "outputs": [],
      "source": [
        "seed = 14\n",
        "train_data = EMNIST(root='emnist_data/', split='byclass', download=True)\n",
        "test_data = EMNIST(root='emnist_data/', split='byclass', download=True, train=False)"
      ]
    },
    {
      "cell_type": "code",
      "execution_count": 160,
      "metadata": {
        "colab": {
          "base_uri": "https://localhost:8080/",
          "height": 344
        },
        "id": "udb4rY5Vhaau",
        "outputId": "bcf53cfb-4675-4dd3-ccf3-d472b4243c8e"
      },
      "outputs": [
        {
          "name": "stdout",
          "output_type": "stream",
          "text": [
            "Number of classes in dataset: 62\n",
            "Unique labels: ['0', '1', '2', '3', '4', '5', '6', '7', '8', '9', 'A', 'B', 'C', 'D', 'E', 'F', 'G', 'H', 'I', 'J', 'K', 'L', 'M', 'N', 'O', 'P', 'Q', 'R', 'S', 'T', 'U', 'V', 'W', 'X', 'Y', 'Z', 'a', 'b', 'c', 'd', 'e', 'f', 'g', 'h', 'i', 'j', 'k', 'l', 'm', 'n', 'o', 'p', 'q', 'r', 's', 't', 'u', 'v', 'w', 'x', 'y', 'z']\n",
            "7\n"
          ]
        },
        {
          "data": {
            "image/jpeg": "[encoded data removed]",
            "image/png": "[encoded data removed]",
            "text/plain": [
              "<PIL.Image.Image image mode=L size=255x255>"
            ]
          },
          "execution_count": 160,
          "metadata": {},
          "output_type": "execute_result"
        }
      ],
      "source": [
        "# This cell is for demo purposes. feel free to remove it if you want.\n",
        "print('Number of classes in dataset:', len(train_data.classes))\n",
        "print('Unique labels:', train_data.classes)\n",
        "\n",
        "demo_img, demo_label = train_data[10]\n",
        "\n",
        "print(demo_label)\n",
        "torchvision.transforms.functional.resize(demo_img, (255, 255))"
      ]
    },
    {
      "cell_type": "code",
      "execution_count": 161,
      "metadata": {
        "colab": {
          "base_uri": "https://localhost:8080/"
        },
        "id": "Ia6MAyxqhiAi",
        "outputId": "aaaf83d2-5197-493e-dfff-04314751683d"
      },
      "outputs": [
        {
          "name": "stdout",
          "output_type": "stream",
          "text": [
            "Training subset size: 69793\n",
            "Test subset size: 11632\n"
          ]
        }
      ],
      "source": [
        "# Transformations for the EMNIST dataset\n",
        "transform = transforms.Compose([\n",
        "    transforms.ToTensor(),\n",
        "    transforms.Normalize((0.5,), (0.5,))\n",
        "])\n",
        "\n",
        "# Load the datasets\n",
        "train_data = EMNIST(root='emnist_data/', split='byclass', train=True, download=True, transform=transform)\n",
        "test_data = EMNIST(root='emnist_data/', split='byclass', train=False, download=True, transform=transform)\n",
        "\n",
        "# Define the size of the subset as a fraction of the original dataset\n",
        "subset_fraction = 0.1 ## You can play with this to get a bigger or smaller subset\n",
        "\n",
        "# Create indices for the training subset\n",
        "train_indices = np.random.choice(len(train_data), int(len(train_data) * subset_fraction), replace=False)\n",
        "\n",
        "# Create the training subset\n",
        "train_subset = Subset(train_data, train_indices)\n",
        "\n",
        "# For the test set, you can do the same or use the full test set\n",
        "test_indices = np.random.choice(len(test_data), int(len(test_data) * subset_fraction), replace=False)\n",
        "test_subset = Subset(test_data, test_indices)\n",
        "\n",
        "# Check the size of the subset\n",
        "print(f\"Training subset size: {len(train_subset)}\")\n",
        "print(f\"Test subset size: {len(test_subset)}\")\n",
        "\n",
        "# Define the DataLoaders\n",
        "train_loader = DataLoader(train_subset, batch_size=32, shuffle=True)\n",
        "test_loader = DataLoader(test_subset, batch_size=32, shuffle=False)"
      ]
    },
    {
      "cell_type": "code",
      "execution_count": 162,
      "metadata": {},
      "outputs": [],
      "source": [
        "\n",
        "class EMNISTClassifier(nn.Module):\n",
        "    def __init__(self):\n",
        "        super(EMNISTClassifier, self).__init__()\n",
        "        self.l1 = nn.Linear(28*28, 256)\n",
        "        self.l2 = nn.Linear(256, 128)\n",
        "        self.l3 = nn.Linear(128, 62)  \n",
        "\n",
        "    def forward(self, x):\n",
        "        x = x.view(-1, 28*28)\n",
        "        x = torch.relu(self.l1(x))\n",
        "        x = torch.relu(self.l2(x))\n",
        "        x = self.l3(x)\n",
        "        return x"
      ]
    },
    {
      "cell_type": "code",
      "execution_count": 163,
      "metadata": {},
      "outputs": [],
      "source": [
        "\n",
        "model = EMNISTClassifier() \n",
        "criterion = nn.CrossEntropyLoss()\n",
        "optimizer = optim.SGD(model.parameters(), lr=0.001)"
      ]
    },
    {
      "cell_type": "code",
      "execution_count": 164,
      "metadata": {},
      "outputs": [
        {
          "name": "stdout",
          "output_type": "stream",
          "text": [
            "cuda\n",
            "Epoch 1 - Average Loss: 3.7187, Average Accuracy: 13.01%\n",
            "Epoch 2 - Average Loss: 3.0914, Average Accuracy: 34.47%\n",
            "Epoch 3 - Average Loss: 2.4615, Average Accuracy: 45.06%\n",
            "Epoch 4 - Average Loss: 2.0587, Average Accuracy: 50.53%\n",
            "Epoch 5 - Average Loss: 1.8185, Average Accuracy: 54.33%\n",
            "Epoch 6 - Average Loss: 1.6618, Average Accuracy: 57.06%\n",
            "Epoch 7 - Average Loss: 1.5519, Average Accuracy: 59.09%\n",
            "Epoch 8 - Average Loss: 1.4710, Average Accuracy: 60.52%\n",
            "Epoch 9 - Average Loss: 1.4054, Average Accuracy: 61.83%\n",
            "Epoch 10 - Average Loss: 1.3533, Average Accuracy: 62.86%\n",
            "Epoch 11 - Average Loss: 1.3091, Average Accuracy: 63.86%\n",
            "Epoch 12 - Average Loss: 1.2723, Average Accuracy: 64.63%\n",
            "Epoch 13 - Average Loss: 1.2409, Average Accuracy: 65.39%\n",
            "Epoch 14 - Average Loss: 1.2133, Average Accuracy: 65.91%\n",
            "Epoch 15 - Average Loss: 1.1896, Average Accuracy: 66.48%\n",
            "Epoch 16 - Average Loss: 1.1686, Average Accuracy: 67.07%\n",
            "Epoch 17 - Average Loss: 1.1495, Average Accuracy: 67.54%\n",
            "Epoch 18 - Average Loss: 1.1315, Average Accuracy: 67.87%\n",
            "Epoch 19 - Average Loss: 1.1158, Average Accuracy: 68.36%\n",
            "Epoch 20 - Average Loss: 1.1002, Average Accuracy: 68.67%\n",
            "Epoch 21 - Average Loss: 1.0849, Average Accuracy: 68.94%\n",
            "Epoch 22 - Average Loss: 1.0710, Average Accuracy: 69.37%\n",
            "Epoch 23 - Average Loss: 1.0588, Average Accuracy: 69.70%\n",
            "Epoch 24 - Average Loss: 1.0457, Average Accuracy: 69.89%\n",
            "Epoch 25 - Average Loss: 1.0327, Average Accuracy: 70.30%\n",
            "Epoch 26 - Average Loss: 1.0214, Average Accuracy: 70.50%\n",
            "Epoch 27 - Average Loss: 1.0090, Average Accuracy: 70.86%\n",
            "Epoch 28 - Average Loss: 0.9974, Average Accuracy: 71.15%\n",
            "Epoch 29 - Average Loss: 0.9887, Average Accuracy: 71.43%\n",
            "Epoch 30 - Average Loss: 0.9764, Average Accuracy: 71.78%\n",
            "Epoch 31 - Average Loss: 0.9661, Average Accuracy: 71.95%\n",
            "Epoch 32 - Average Loss: 0.9577, Average Accuracy: 72.28%\n",
            "Epoch 33 - Average Loss: 0.9486, Average Accuracy: 72.55%\n",
            "Epoch 34 - Average Loss: 0.9364, Average Accuracy: 72.78%\n",
            "Epoch 35 - Average Loss: 0.9266, Average Accuracy: 72.98%\n",
            "Epoch 36 - Average Loss: 0.9180, Average Accuracy: 73.16%\n",
            "Epoch 37 - Average Loss: 0.9093, Average Accuracy: 73.42%\n",
            "Epoch 38 - Average Loss: 0.9002, Average Accuracy: 73.72%\n",
            "Epoch 39 - Average Loss: 0.8934, Average Accuracy: 73.82%\n",
            "Epoch 40 - Average Loss: 0.8851, Average Accuracy: 74.06%\n",
            "Epoch 41 - Average Loss: 0.8773, Average Accuracy: 74.25%\n",
            "Epoch 42 - Average Loss: 0.8692, Average Accuracy: 74.52%\n",
            "Epoch 43 - Average Loss: 0.8626, Average Accuracy: 74.68%\n",
            "Epoch 44 - Average Loss: 0.8544, Average Accuracy: 74.81%\n",
            "Epoch 45 - Average Loss: 0.8504, Average Accuracy: 74.93%\n",
            "Epoch 46 - Average Loss: 0.8415, Average Accuracy: 75.15%\n",
            "Epoch 47 - Average Loss: 0.8337, Average Accuracy: 75.36%\n",
            "Epoch 48 - Average Loss: 0.8272, Average Accuracy: 75.60%\n",
            "Epoch 49 - Average Loss: 0.8221, Average Accuracy: 75.68%\n",
            "Epoch 50 - Average Loss: 0.8148, Average Accuracy: 75.82%\n",
            "Epoch 51 - Average Loss: 0.8106, Average Accuracy: 75.95%\n",
            "Epoch 52 - Average Loss: 0.8033, Average Accuracy: 76.07%\n",
            "Epoch 53 - Average Loss: 0.7973, Average Accuracy: 76.26%\n",
            "Epoch 54 - Average Loss: 0.7917, Average Accuracy: 76.33%\n",
            "Epoch 55 - Average Loss: 0.7861, Average Accuracy: 76.49%\n",
            "Epoch 56 - Average Loss: 0.7806, Average Accuracy: 76.64%\n",
            "Epoch 57 - Average Loss: 0.7752, Average Accuracy: 76.83%\n",
            "Epoch 58 - Average Loss: 0.7704, Average Accuracy: 76.88%\n",
            "Epoch 59 - Average Loss: 0.7653, Average Accuracy: 77.02%\n",
            "Epoch 60 - Average Loss: 0.7599, Average Accuracy: 77.12%\n",
            "Epoch 61 - Average Loss: 0.7548, Average Accuracy: 77.32%\n",
            "Epoch 62 - Average Loss: 0.7505, Average Accuracy: 77.43%\n",
            "Epoch 63 - Average Loss: 0.7455, Average Accuracy: 77.56%\n",
            "Epoch 64 - Average Loss: 0.7406, Average Accuracy: 77.65%\n",
            "Epoch 65 - Average Loss: 0.7362, Average Accuracy: 77.79%\n",
            "Epoch 66 - Average Loss: 0.7325, Average Accuracy: 77.87%\n",
            "Epoch 67 - Average Loss: 0.7273, Average Accuracy: 78.04%\n",
            "Epoch 68 - Average Loss: 0.7251, Average Accuracy: 78.08%\n",
            "Epoch 69 - Average Loss: 0.7188, Average Accuracy: 78.17%\n",
            "Epoch 70 - Average Loss: 0.7148, Average Accuracy: 78.35%\n",
            "Epoch 71 - Average Loss: 0.7106, Average Accuracy: 78.37%\n",
            "Epoch 72 - Average Loss: 0.7060, Average Accuracy: 78.53%\n",
            "Epoch 73 - Average Loss: 0.7021, Average Accuracy: 78.61%\n",
            "Epoch 74 - Average Loss: 0.6983, Average Accuracy: 78.72%\n",
            "Epoch 75 - Average Loss: 0.6945, Average Accuracy: 78.83%\n",
            "Epoch 76 - Average Loss: 0.6910, Average Accuracy: 78.87%\n",
            "Epoch 77 - Average Loss: 0.6916, Average Accuracy: 79.01%\n",
            "Epoch 78 - Average Loss: 0.6835, Average Accuracy: 79.05%\n",
            "Epoch 79 - Average Loss: 0.6801, Average Accuracy: 79.16%\n",
            "Epoch 80 - Average Loss: 0.6766, Average Accuracy: 79.32%\n",
            "Epoch 81 - Average Loss: 0.6730, Average Accuracy: 79.30%\n",
            "Epoch 82 - Average Loss: 0.6696, Average Accuracy: 79.34%\n",
            "Epoch 83 - Average Loss: 0.6659, Average Accuracy: 79.54%\n",
            "Epoch 84 - Average Loss: 0.6626, Average Accuracy: 79.61%\n",
            "Epoch 85 - Average Loss: 0.6591, Average Accuracy: 79.67%\n",
            "Epoch 86 - Average Loss: 0.6564, Average Accuracy: 79.72%\n",
            "Epoch 87 - Average Loss: 0.6529, Average Accuracy: 79.81%\n",
            "Epoch 88 - Average Loss: 0.6499, Average Accuracy: 79.91%\n",
            "Epoch 89 - Average Loss: 0.6463, Average Accuracy: 79.98%\n",
            "Epoch 90 - Average Loss: 0.6449, Average Accuracy: 80.00%\n",
            "Epoch 91 - Average Loss: 0.6408, Average Accuracy: 80.12%\n",
            "Epoch 92 - Average Loss: 0.6377, Average Accuracy: 80.17%\n",
            "Epoch 93 - Average Loss: 0.6348, Average Accuracy: 80.27%\n",
            "Epoch 94 - Average Loss: 0.6318, Average Accuracy: 80.31%\n",
            "Epoch 95 - Average Loss: 0.6289, Average Accuracy: 80.44%\n",
            "Epoch 96 - Average Loss: 0.6263, Average Accuracy: 80.53%\n",
            "Epoch 97 - Average Loss: 0.6236, Average Accuracy: 80.59%\n",
            "Epoch 98 - Average Loss: 0.6208, Average Accuracy: 80.70%\n",
            "Epoch 99 - Average Loss: 0.6184, Average Accuracy: 80.72%\n",
            "Epoch 100 - Average Loss: 0.6177, Average Accuracy: 80.67%\n"
          ]
        }
      ],
      "source": [
        "# Check if GPU is available and set the device\n",
        "device = torch.device('cuda' if torch.cuda.is_available() else 'cpu')\n",
        "print(device)\n",
        "\n",
        "model.to(device)\n",
        "\n",
        "\n",
        "num_epochs = 100\n",
        "train_losses = []\n",
        "for epoch in range(num_epochs):\n",
        "    model.train()\n",
        "    total_loss = 0\n",
        "    correct = 0\n",
        "    total = 0\n",
        "\n",
        "    for iteration, (inputs, labels) in enumerate(train_loader):\n",
        "        inputs, labels = inputs.to(device), labels.to(device)\n",
        "        optimizer.zero_grad()\n",
        "        outputs = model(inputs)\n",
        "        loss = criterion(outputs, labels)\n",
        "        loss.backward()\n",
        "        optimizer.step()\n",
        "\n",
        "        total_loss += loss.item()\n",
        "        predicted = outputs.max(1)[1]\n",
        "        total += labels.size(0)\n",
        "        correct += predicted.eq(labels).sum().item()\n",
        "\n",
        "    # Calculate and print the average loss and accuracy for the epoch\n",
        "    epoch_loss = total_loss / (iteration + 1)\n",
        "    epoch_accuracy = 100 * correct / total\n",
        "    print(f\"Epoch {epoch + 1} - Average Loss: {epoch_loss:.4f}, Average Accuracy: {epoch_accuracy:.2f}%\")\n"
      ]
    },
    {
      "cell_type": "code",
      "execution_count": 165,
      "metadata": {},
      "outputs": [
        {
          "name": "stdout",
          "output_type": "stream",
          "text": [
            "Testing/Validation Accuracy 78.04%\n"
          ]
        }
      ],
      "source": [
        "model.eval()\n",
        "correct = 0\n",
        "total = 0\n",
        "\n",
        "with torch.no_grad():\n",
        "    for inputs, labels in test_loader:\n",
        "        inputs, labels = inputs.to(device), labels.to(device)\n",
        "        outputs = model(inputs)\n",
        "        predicted = outputs.max(1)[1]\n",
        "        total += labels.size(0)\n",
        "        correct += predicted.eq(labels).sum().item()\n",
        "\n",
        "    accuracy = 100 * correct / total\n",
        "    print(f\"Testing/Validation Accuracy {accuracy:.2f}%\")"
      ]
    }
  ],
  "metadata": {
    "colab": {
      "provenance": []
    },
    "kernelspec": {
      "display_name": "Python 3",
      "name": "python3"
    },
    "language_info": {
      "codemirror_mode": {
        "name": "ipython",
        "version": 3
      },
      "file_extension": ".py",
      "mimetype": "text/x-python",
      "name": "python",
      "nbconvert_exporter": "python",
      "pygments_lexer": "ipython3",
      "version": "3.11.5"
    }
  },
  "nbformat": 4,
  "nbformat_minor": 0
}
